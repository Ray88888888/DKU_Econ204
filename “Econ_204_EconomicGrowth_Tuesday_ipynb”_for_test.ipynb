{
  "nbformat": 4,
  "nbformat_minor": 0,
  "metadata": {
    "colab": {
      "name": "“Econ_204_EconomicGrowth: Tuesday.ipynb”_for test",
      "provenance": [],
      "collapsed_sections": [],
      "include_colab_link": true
    },
    "kernelspec": {
      "name": "python3",
      "display_name": "Python 3"
    }
  },
  "cells": [
    {
      "cell_type": "markdown",
      "metadata": {
        "id": "view-in-github",
        "colab_type": "text"
      },
      "source": [
        "<a href=\"https://colab.research.google.com/github/Ray88888888/DKU_Econ204/blob/main/%E2%80%9CEcon_204_EconomicGrowth_Tuesday_ipynb%E2%80%9D_for_test.ipynb\" target=\"_parent\"><img src=\"https://colab.research.google.com/assets/colab-badge.svg\" alt=\"Open In Colab\"/></a>"
      ]
    },
    {
      "cell_type": "markdown",
      "metadata": {
        "id": "R7fwSVGY6qUN"
      },
      "source": [
        "**Step 1: Define the Exognous Variables**\n",
        "\n",
        "The saving rate: $s$\n",
        "\n",
        "The depreciation rate: $\\delta$\n",
        "\n",
        "The popoulation growth rate: $n$\n",
        "\n",
        "The Technology level: $A$\n",
        "\n",
        "The Initial labor level: $L(0)$\n",
        "\n",
        "The Initial capital level: $K(0)$\n",
        "\n",
        "\n",
        "\n"
      ]
    },
    {
      "cell_type": "code",
      "metadata": {
        "id": "En_uo0irwGap"
      },
      "source": [
        ""
      ],
      "execution_count": 512,
      "outputs": []
    },
    {
      "cell_type": "code",
      "metadata": {
        "id": "h2Tg5n_656xi"
      },
      "source": [
        "s = 0.5\n",
        "delta = 0.1\n",
        "n= 2\n",
        "A= 10\n",
        "L0=100\n",
        "K0=1000\n"
      ],
      "execution_count": 513,
      "outputs": []
    },
    {
      "cell_type": "code",
      "metadata": {
        "id": "NW1OJSt5uq-k",
        "outputId": "07d7a0f2-63e6-401f-ac77-b05013880ac9",
        "colab": {
          "base_uri": "https://localhost:8080/"
        }
      },
      "source": [
        "k0=K0/L0\n",
        "k0"
      ],
      "execution_count": 514,
      "outputs": [
        {
          "output_type": "execute_result",
          "data": {
            "text/plain": [
              "10.0"
            ]
          },
          "metadata": {
            "tags": []
          },
          "execution_count": 514
        }
      ]
    },
    {
      "cell_type": "markdown",
      "metadata": {
        "id": "VPAThZQq7qcp"
      },
      "source": [
        "Simulate $L =L(0)*e^{nt}$"
      ]
    },
    {
      "cell_type": "code",
      "metadata": {
        "id": "SaoDi87-9Ruf"
      },
      "source": [
        "### import the package\n",
        "import numpy as np"
      ],
      "execution_count": 515,
      "outputs": []
    },
    {
      "cell_type": "code",
      "metadata": {
        "id": "tdb9YJMf8WcG"
      },
      "source": [
        "### define the function\n",
        "def L(t):\n",
        "  L=L0*np.exp(n*t)\n",
        "  return L"
      ],
      "execution_count": 516,
      "outputs": []
    },
    {
      "cell_type": "code",
      "metadata": {
        "id": "LJfz30TU9OPx",
        "outputId": "4ab15964-e5d0-4756-b0f4-0615cb6c8163",
        "colab": {
          "base_uri": "https://localhost:8080/"
        }
      },
      "source": [
        "### check the initial value\n",
        "L(0)"
      ],
      "execution_count": 517,
      "outputs": [
        {
          "output_type": "execute_result",
          "data": {
            "text/plain": [
              "100.0"
            ]
          },
          "metadata": {
            "tags": []
          },
          "execution_count": 517
        }
      ]
    },
    {
      "cell_type": "code",
      "metadata": {
        "id": "bsGDSnAI-Hn0"
      },
      "source": [
        "t = np.linspace(0, 10)\n",
        "L=L(t)\n"
      ],
      "execution_count": 518,
      "outputs": []
    },
    {
      "cell_type": "code",
      "metadata": {
        "id": "rnmjtT3Elw5_",
        "outputId": "ce274df6-8338-4984-f1b9-c7f64f3356d3",
        "colab": {
          "base_uri": "https://localhost:8080/",
          "height": 276
        }
      },
      "source": [
        "### plot the function\n",
        "import matplotlib.pyplot as plt\n",
        "\n",
        "plt.plot(t, L)\n",
        "plt.show()"
      ],
      "execution_count": 519,
      "outputs": [
        {
          "output_type": "display_data",
          "data": {
            "image/png": "[encoded data removed]",
            "text/plain": [
              "<Figure size 432x288 with 1 Axes>"
            ]
          },
          "metadata": {
            "tags": [],
            "needs_background": "light"
          }
        }
      ]
    },
    {
      "cell_type": "code",
      "metadata": {
        "id": "--_1nI2I9gBB",
        "outputId": "68d99514-e3d1-4545-d157-dfc2a71ccd83",
        "colab": {
          "base_uri": "https://localhost:8080/",
          "height": 269
        }
      },
      "source": [
        "### plot the function with yscale in \"log\"\n",
        "import matplotlib.pyplot as plt\n",
        "\n",
        "plt.plot(t, L)\n",
        "plt.yscale(\"log\")\n",
        "plt.show()"
      ],
      "execution_count": 520,
      "outputs": [
        {
          "output_type": "display_data",
          "data": {
            "image/png": "[encoded data removed]",
            "text/plain": [
              "<Figure size 432x288 with 1 Axes>"
            ]
          },
          "metadata": {
            "tags": [],
            "needs_background": "light"
          }
        }
      ]
    },
    {
      "cell_type": "markdown",
      "metadata": {
        "id": "pQmEzhw57mXG"
      },
      "source": [
        "**Step 2: Plot the Production Function**\n",
        "\n",
        "$y=A*k^{\\beta}$\n"
      ]
    },
    {
      "cell_type": "code",
      "metadata": {
        "id": "6XZXXKP0uH4A"
      },
      "source": [
        "beta = 0.5"
      ],
      "execution_count": 521,
      "outputs": []
    },
    {
      "cell_type": "code",
      "metadata": {
        "id": "DjvdPehKuV0t"
      },
      "source": [
        "### define the function\n",
        "def y(k):\n",
        "  y=A*np.power(k,beta)\n",
        "  return y"
      ],
      "execution_count": 522,
      "outputs": []
    },
    {
      "cell_type": "code",
      "metadata": {
        "id": "eFJ62CqxuUiz",
        "outputId": "25c0cf0d-84ab-40cb-d655-001e0a7fe107",
        "colab": {
          "base_uri": "https://localhost:8080/"
        }
      },
      "source": [
        "## check the initial condition\n",
        "y(k0)"
      ],
      "execution_count": 523,
      "outputs": [
        {
          "output_type": "execute_result",
          "data": {
            "text/plain": [
              "31.622776601683796"
            ]
          },
          "metadata": {
            "tags": []
          },
          "execution_count": 523
        }
      ]
    },
    {
      "cell_type": "code",
      "metadata": {
        "id": "Y9ffYrhJuzgo"
      },
      "source": [
        "k = np.linspace(k0, 100)\n",
        "y=y(k)"
      ],
      "execution_count": 524,
      "outputs": []
    },
    {
      "cell_type": "code",
      "metadata": {
        "id": "-2pVX3TGu8qd",
        "outputId": "c4cb683c-896a-4660-88f9-c937a6f4121c",
        "colab": {
          "base_uri": "https://localhost:8080/",
          "height": 265
        }
      },
      "source": [
        "### plot the function\n",
        "import matplotlib.pyplot as plt\n",
        "\n",
        "plt.plot(k, y)\n",
        "plt.show()"
      ],
      "execution_count": 525,
      "outputs": [
        {
          "output_type": "display_data",
          "data": {
            "image/png": "[encoded data removed]",
            "text/plain": [
              "<Figure size 432x288 with 1 Axes>"
            ]
          },
          "metadata": {
            "tags": [],
            "needs_background": "light"
          }
        }
      ]
    },
    {
      "cell_type": "markdown",
      "metadata": {
        "id": "bg1Wb2-GvLd4"
      },
      "source": [
        "**Step 3: Solve for the steady State**\n",
        "Refers to Latex Symbol here: https://artofproblemsolving.com/wiki/index.php/LaTeX:Symbols\n",
        "\n",
        "$0=\\bigtriangleup k/k=s*y(k)-s*\\delta-n $\n"
      ]
    },
    {
      "cell_type": "markdown",
      "metadata": {
        "id": "ysgHOjd_yiXA"
      },
      "source": [
        "Plot $g(k)=s*A*k^{\\beta-1}$"
      ]
    },
    {
      "cell_type": "code",
      "metadata": {
        "id": "tshvg8UAyHZJ"
      },
      "source": [
        "def G(k):\n",
        "  g=s*A*np.power(k,beta-1)\n",
        "  return g"
      ],
      "execution_count": 526,
      "outputs": []
    },
    {
      "cell_type": "code",
      "metadata": {
        "id": "M8sVmHWGy1Z2",
        "outputId": "e318e982-aded-4281-d8fd-709976a8a08a",
        "colab": {
          "base_uri": "https://localhost:8080/"
        }
      },
      "source": [
        "G(k0)"
      ],
      "execution_count": 527,
      "outputs": [
        {
          "output_type": "execute_result",
          "data": {
            "text/plain": [
              "1.5811388300841898"
            ]
          },
          "metadata": {
            "tags": []
          },
          "execution_count": 527
        }
      ]
    },
    {
      "cell_type": "code",
      "metadata": {
        "id": "DhJej8sSy6z_"
      },
      "source": [
        "k = np.linspace(k0, 100)\n",
        "g1=G(k)"
      ],
      "execution_count": 528,
      "outputs": []
    },
    {
      "cell_type": "code",
      "metadata": {
        "id": "EnKvCmGzzHTg",
        "outputId": "4e76ae28-0dbb-4a2e-84d4-dc05e45fddf6",
        "colab": {
          "base_uri": "https://localhost:8080/",
          "height": 265
        }
      },
      "source": [
        "### plot the function\n",
        "import matplotlib.pyplot as plt\n",
        "\n",
        "plt.plot(k, g1)\n",
        "plt.show()"
      ],
      "execution_count": 529,
      "outputs": [
        {
          "output_type": "display_data",
          "data": {
            "image/png": "[encoded data removed]",
            "text/plain": [
              "<Figure size 432x288 with 1 Axes>"
            ]
          },
          "metadata": {
            "tags": [],
            "needs_background": "light"
          }
        }
      ]
    },
    {
      "cell_type": "code",
      "metadata": {
        "id": "BQ1rZQyQzLtr",
        "outputId": "ad341212-4c33-462e-bd61-45f80b1310dc",
        "colab": {
          "base_uri": "https://localhost:8080/"
        }
      },
      "source": [
        "s*delta+n"
      ],
      "execution_count": 530,
      "outputs": [
        {
          "output_type": "execute_result",
          "data": {
            "text/plain": [
              "2.05"
            ]
          },
          "metadata": {
            "tags": []
          },
          "execution_count": 530
        }
      ]
    },
    {
      "cell_type": "code",
      "metadata": {
        "id": "WuT8kdFgzQgj",
        "outputId": "65c93be8-9d53-4f17-ce54-a2e8a2a04132",
        "colab": {
          "base_uri": "https://localhost:8080/",
          "height": 615
        }
      },
      "source": [
        "### plot the function\n",
        "import matplotlib.pyplot as plt\n",
        "fig= plt.figure(figsize=(20,10))\n",
        "\n",
        "plt.plot(k, g1)\n",
        "plt.axhline(y=s*delta+n)\n",
        "plt.xlabel('$k$',fontsize=20)\n",
        "plt.show()"
      ],
      "execution_count": 531,
      "outputs": [
        {
          "output_type": "display_data",
          "data": {
            "image/png": "[encoded data removed]",
            "text/plain": [
              "<Figure size 1440x720 with 1 Axes>"
            ]
          },
          "metadata": {
            "tags": [],
            "needs_background": "light"
          }
        }
      ]
    },
    {
      "cell_type": "markdown",
      "metadata": {
        "id": "qWlVODyy4LKn"
      },
      "source": [
        "### Solve for the steady state $k^{*}$"
      ]
    },
    {
      "cell_type": "code",
      "metadata": {
        "id": "qkh3d-800saG"
      },
      "source": [
        "from sympy.solvers import solve\n",
        "from sympy import Symbol\n",
        "k=Symbol('k')"
      ],
      "execution_count": 532,
      "outputs": []
    },
    {
      "cell_type": "code",
      "metadata": {
        "id": "W936ShPd3uNb",
        "outputId": "2279e17b-ff79-45a8-85ec-d88bda52face",
        "colab": {
          "base_uri": "https://localhost:8080/"
        }
      },
      "source": [
        "k_steady=solve(s*A*np.power(k,beta)/k-s*delta-n,k)\n",
        "k_steady"
      ],
      "execution_count": 533,
      "outputs": [
        {
          "output_type": "execute_result",
          "data": {
            "text/plain": [
              "[5.94883997620464]"
            ]
          },
          "metadata": {
            "tags": []
          },
          "execution_count": 533
        }
      ]
    },
    {
      "cell_type": "markdown",
      "metadata": {
        "id": "Gawwt2KA5Xf8"
      },
      "source": [
        "**Step 4: Plot the Steady State Economy**"
      ]
    },
    {
      "cell_type": "code",
      "metadata": {
        "id": "NW1fBHMH5t3o",
        "outputId": "505beabd-946c-4830-cae0-a291831cf232",
        "colab": {
          "base_uri": "https://localhost:8080/"
        }
      },
      "source": [
        "y_steady = A*np.power(k_steady,beta)\n",
        "y_steady"
      ],
      "execution_count": 534,
      "outputs": [
        {
          "output_type": "execute_result",
          "data": {
            "text/plain": [
              "array([24.3902439024390], dtype=object)"
            ]
          },
          "metadata": {
            "tags": []
          },
          "execution_count": 534
        }
      ]
    },
    {
      "cell_type": "code",
      "metadata": {
        "id": "-tB1_9zS3xuS"
      },
      "source": [
        "def Y(t):\n",
        "  Y = y_steady*L0*np.exp(n*t)\n",
        "  return Y"
      ],
      "execution_count": 535,
      "outputs": []
    },
    {
      "cell_type": "code",
      "metadata": {
        "id": "YUrVdZGr6Ji3"
      },
      "source": [
        "t = np.linspace(0, 10)\n",
        "Y=Y(t)"
      ],
      "execution_count": 536,
      "outputs": []
    },
    {
      "cell_type": "code",
      "metadata": {
        "id": "A40Z24lx6URG",
        "outputId": "24149295-8597-4fe2-b16d-725f12ba984a",
        "colab": {
          "base_uri": "https://localhost:8080/",
          "height": 602
        }
      },
      "source": [
        "### plot the function\n",
        "import matplotlib.pyplot as plt\n",
        "fig= plt.figure(figsize=(20,10))\n",
        "\n",
        "plt.plot(t, Y)\n",
        "plt.show()"
      ],
      "execution_count": 537,
      "outputs": [
        {
          "output_type": "display_data",
          "data": {
            "image/png": "[encoded data removed]",
            "text/plain": [
              "<Figure size 1440x720 with 1 Axes>"
            ]
          },
          "metadata": {
            "tags": [],
            "needs_background": "light"
          }
        }
      ]
    },
    {
      "cell_type": "markdown",
      "metadata": {
        "id": "hrJ4RCc2nKpy"
      },
      "source": [
        "#**Technology Growth**\n",
        "\n",
        "# $y=y(0)*e^{at}$, where a is growth rate of technology A"
      ]
    },
    {
      "cell_type": "code",
      "metadata": {
        "id": "HESqAWZTO7kc"
      },
      "source": [
        "def y(t):\n",
        "  y = y0*np.exp(a*t)\n",
        "  return y"
      ],
      "execution_count": 538,
      "outputs": []
    },
    {
      "cell_type": "code",
      "metadata": {
        "id": "-_b9AbHGnUQf"
      },
      "source": [
        "# when there is no technology growth a=0\n",
        "y0=y_steady\n",
        "a=0"
      ],
      "execution_count": 539,
      "outputs": []
    },
    {
      "cell_type": "code",
      "metadata": {
        "id": "B19yTwhznb_k"
      },
      "source": [
        "t = np.linspace(0, 10)\n",
        "y1 =y(t)"
      ],
      "execution_count": 540,
      "outputs": []
    },
    {
      "cell_type": "code",
      "metadata": {
        "id": "C8vmcvq3nnC0",
        "outputId": "eeedd480-c8e9-4a59-db18-c6e5600394f0",
        "colab": {
          "base_uri": "https://localhost:8080/",
          "height": 592
        }
      },
      "source": [
        "### plot the function\n",
        "import matplotlib.pyplot as plt\n",
        "fig= plt.figure(figsize=(20,10))\n",
        "\n",
        "plt.plot(t, y1)\n",
        "plt.show()"
      ],
      "execution_count": 541,
      "outputs": [
        {
          "output_type": "display_data",
          "data": {
            "image/png": "[encoded data removed]",
            "text/plain": [
              "<Figure size 1440x720 with 1 Axes>"
            ]
          },
          "metadata": {
            "tags": [],
            "needs_background": "light"
          }
        }
      ]
    },
    {
      "cell_type": "code",
      "metadata": {
        "id": "PRPwtCVUno6D"
      },
      "source": [
        "### when technology growth rate a =9\n",
        "y0=y_steady\n",
        "a=9\n",
        "t = np.linspace(0, 10)\n",
        "y3 =y(t)"
      ],
      "execution_count": 585,
      "outputs": []
    },
    {
      "cell_type": "code",
      "metadata": {
        "id": "IvFKqiYY9unz",
        "outputId": "06eda2ec-e3fe-4a0c-89fa-e51dd65f9af3",
        "colab": {
          "base_uri": "https://localhost:8080/"
        }
      },
      "source": [
        "y(10)"
      ],
      "execution_count": 586,
      "outputs": [
        {
          "output_type": "execute_result",
          "data": {
            "text/plain": [
              "array([2.97659340077522e+40], dtype=object)"
            ]
          },
          "metadata": {
            "tags": []
          },
          "execution_count": 586
        }
      ]
    },
    {
      "cell_type": "code",
      "metadata": {
        "id": "iJjTpvbFZw-b"
      },
      "source": [
        "### when technology growth rate a =10\n",
        "y0=y_steady\n",
        "a=10\n",
        "t = np.linspace(0, 10)\n",
        "y4 =y(t)"
      ],
      "execution_count": 579,
      "outputs": []
    },
    {
      "cell_type": "code",
      "metadata": {
        "id": "ZrXIFodlZ8Eb"
      },
      "source": [
        "### when technology growth rate a = 11\n",
        "y0=y_steady\n",
        "a=11\n",
        "t = np.linspace(0, 10)\n",
        "y5 =y(t)"
      ],
      "execution_count": 587,
      "outputs": []
    },
    {
      "cell_type": "code",
      "metadata": {
        "id": "XKUa85597v0H"
      },
      "source": [
        "### when technology growth rate a =3\n",
        "y0=y_steady\n",
        "a=3\n",
        "t = np.linspace(0, 10)\n",
        "y6 =y(t)"
      ],
      "execution_count": 597,
      "outputs": []
    },
    {
      "cell_type": "code",
      "metadata": {
        "id": "qMY3j3HF46nJ",
        "outputId": "7911e91a-cf26-4ea9-a377-f121acd3e9a4",
        "colab": {
          "base_uri": "https://localhost:8080/"
        }
      },
      "source": [
        "y(10)"
      ],
      "execution_count": 598,
      "outputs": [
        {
          "output_type": "execute_result",
          "data": {
            "text/plain": [
              "array([260645721500597.], dtype=object)"
            ]
          },
          "metadata": {
            "tags": []
          },
          "execution_count": 598
        }
      ]
    },
    {
      "cell_type": "code",
      "metadata": {
        "id": "CphRb1s0aFAr"
      },
      "source": [
        "### when technology growth rate a = 2\n",
        "y0=y_steady\n",
        "a=2"
      ],
      "execution_count": 599,
      "outputs": []
    },
    {
      "cell_type": "code",
      "metadata": {
        "id": "jwloBno5nwCz"
      },
      "source": [
        "t = np.linspace(0, 10)\n",
        "y2 =y(t)"
      ],
      "execution_count": 600,
      "outputs": []
    },
    {
      "cell_type": "code",
      "metadata": {
        "id": "E2xBDb5A5E4l",
        "outputId": "02952a79-912b-4427-9cc6-9d64a8c9497c",
        "colab": {
          "base_uri": "https://localhost:8080/"
        }
      },
      "source": [
        "y(10)"
      ],
      "execution_count": 601,
      "outputs": [
        {
          "output_type": "execute_result",
          "data": {
            "text/plain": [
              "array([11833297449.0193], dtype=object)"
            ]
          },
          "metadata": {
            "tags": []
          },
          "execution_count": 601
        }
      ]
    },
    {
      "cell_type": "code",
      "metadata": {
        "id": "AxHBGoxbn0FI",
        "outputId": "3df2dacd-0fd7-4aba-a2d9-ad3eacfb918d",
        "colab": {
          "base_uri": "https://localhost:8080/",
          "height": 501
        }
      },
      "source": [
        "### plot the function\n",
        "import matplotlib.pyplot as plt\n",
        "fig= plt.figure(figsize=(15,8))\n",
        "plt.plot(t,y6,label=\"a=3\")\n",
        "plt.plot(t,y2,label=\"a=2\")\n",
        "plt.legend()\n",
        "plt.title(\"Steady State GDP per Capital y with different technology growth rate a\", fontsize=16)\n",
        "plt.show()"
      ],
      "execution_count": 612,
      "outputs": [
        {
          "output_type": "display_data",
          "data": {
            "image/png": "[encoded data removed]",
            "text/plain": [
              "<Figure size 1080x576 with 1 Axes>"
            ]
          },
          "metadata": {
            "tags": [],
            "needs_background": "light"
          }
        }
      ]
    },
    {
      "cell_type": "code",
      "metadata": {
        "id": "e3nOhnkm7kyi"
      },
      "source": [
        "plt.yscale('log',basey=2)"
      ],
      "execution_count": null,
      "outputs": []
    },
    {
      "cell_type": "code",
      "metadata": {
        "id": "KUfUHe1woETX"
      },
      "source": [
        "plt.plot(t,y6,label=\"a=3\")\n",
        "plt.plot(t,y3,label=\"a=9\")\n",
        "plt.plot(t,y1,label=\"a=0\")\n",
        "plt.plot(t,y2,label=\"a=2\")"
      ],
      "execution_count": 547,
      "outputs": []
    }
  ]
}